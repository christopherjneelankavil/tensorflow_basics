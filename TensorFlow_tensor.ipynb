{
  "nbformat": 4,
  "nbformat_minor": 0,
  "metadata": {
    "colab": {
      "provenance": [],
      "authorship_tag": "ABX9TyMsBzI4S7+x1TN9D1+WwEbZ",
      "include_colab_link": true
    },
    "kernelspec": {
      "name": "python3",
      "display_name": "Python 3"
    },
    "language_info": {
      "name": "python"
    }
  },
  "cells": [
    {
      "cell_type": "markdown",
      "metadata": {
        "id": "view-in-github",
        "colab_type": "text"
      },
      "source": [
        "<a href=\"https://colab.research.google.com/github/christopherjneelankavil/tensorflow_basics/blob/main/TensorFlow_tensor.ipynb\" target=\"_parent\"><img src=\"https://colab.research.google.com/assets/colab-badge.svg\" alt=\"Open In Colab\"/></a>"
      ]
    },
    {
      "cell_type": "code",
      "execution_count": null,
      "metadata": {
        "id": "dbdYxcuDZMLg"
      },
      "outputs": [],
      "source": [
        "import tensorflow as tf"
      ]
    },
    {
      "cell_type": "code",
      "source": [
        "zero_d_value = tf.constant(5, dtype=tf.int32)\n",
        "print(zero_d_value)"
      ],
      "metadata": {
        "colab": {
          "base_uri": "https://localhost:8080/"
        },
        "id": "iQY0U1_QZ134",
        "outputId": "2eb39e9b-af11-4213-b346-0fe7eee1828e"
      },
      "execution_count": null,
      "outputs": [
        {
          "output_type": "stream",
          "name": "stdout",
          "text": [
            "tf.Tensor(5, shape=(), dtype=int32)\n"
          ]
        }
      ]
    },
    {
      "cell_type": "code",
      "source": [
        "tensor_one_d = tf.constant([1,2,3,4,5])\n",
        "print(tensor_one_d)"
      ],
      "metadata": {
        "colab": {
          "base_uri": "https://localhost:8080/"
        },
        "id": "rJu6_vur0UDU",
        "outputId": "716a31bf-4ad9-4755-a497-2092ed46786d"
      },
      "execution_count": null,
      "outputs": [
        {
          "output_type": "stream",
          "name": "stdout",
          "text": [
            "tf.Tensor([1 2 3 4 5], shape=(5,), dtype=int32)\n"
          ]
        }
      ]
    },
    {
      "cell_type": "code",
      "source": [
        "tensor_2d = tf.constant([[1,2,3],[4,5,6]])\n",
        "print(tensor_2d)"
      ],
      "metadata": {
        "colab": {
          "base_uri": "https://localhost:8080/"
        },
        "id": "5hBmhdvK0YZ-",
        "outputId": "4d252775-3181-4b56-9ff2-49c13c420546"
      },
      "execution_count": null,
      "outputs": [
        {
          "output_type": "stream",
          "name": "stdout",
          "text": [
            "tf.Tensor(\n",
            "[[1 2 3]\n",
            " [4 5 6]], shape=(2, 3), dtype=int32)\n"
          ]
        }
      ]
    },
    {
      "cell_type": "code",
      "source": [
        "tensor_3d = tf.constant([[[1,2,3],[4,5,6]],[[7,8,9],[10,11,12]]])\n",
        "print(tensor_3d)"
      ],
      "metadata": {
        "colab": {
          "base_uri": "https://localhost:8080/"
        },
        "id": "W8a3XQK00cN0",
        "outputId": "5032fe9e-425a-468a-bc89-efb831e3ba28"
      },
      "execution_count": null,
      "outputs": [
        {
          "output_type": "stream",
          "name": "stdout",
          "text": [
            "tf.Tensor(\n",
            "[[[ 1  2  3]\n",
            "  [ 4  5  6]]\n",
            "\n",
            " [[ 7  8  9]\n",
            "  [10 11 12]]], shape=(2, 2, 3), dtype=int32)\n"
          ]
        }
      ]
    },
    {
      "cell_type": "code",
      "source": [
        "print(tensor_3d.shape)"
      ],
      "metadata": {
        "colab": {
          "base_uri": "https://localhost:8080/"
        },
        "id": "VQPAe_l60fjx",
        "outputId": "77311f0d-382e-4ff0-c345-413a5b6b0875"
      },
      "execution_count": null,
      "outputs": [
        {
          "output_type": "stream",
          "name": "stdout",
          "text": [
            "(2, 2, 3)\n"
          ]
        }
      ]
    },
    {
      "cell_type": "code",
      "source": [
        "print(tensor_3d.ndim)"
      ],
      "metadata": {
        "colab": {
          "base_uri": "https://localhost:8080/"
        },
        "id": "jLUaE1Wx1HjA",
        "outputId": "0fb094e4-1a01-48b2-fab6-9dd263f37ae9"
      },
      "execution_count": null,
      "outputs": [
        {
          "output_type": "stream",
          "name": "stdout",
          "text": [
            "3\n"
          ]
        }
      ]
    },
    {
      "cell_type": "code",
      "source": [
        "tensor_4d = tf.constant([[[[1,2,3],[4,5,6]],[[7,8,9],[10,11,12]]],[[[1,2,3],[4,5,6]],[[7,8,9],[10,11,12]]]])\n",
        "print(tensor_4d)"
      ],
      "metadata": {
        "colab": {
          "base_uri": "https://localhost:8080/"
        },
        "id": "TjNVAAhs1NGr",
        "outputId": "c04f0538-4cc7-4efc-929f-860e413e6f65"
      },
      "execution_count": null,
      "outputs": [
        {
          "output_type": "stream",
          "name": "stdout",
          "text": [
            "tf.Tensor(\n",
            "[[[[ 1  2  3]\n",
            "   [ 4  5  6]]\n",
            "\n",
            "  [[ 7  8  9]\n",
            "   [10 11 12]]]\n",
            "\n",
            "\n",
            " [[[ 1  2  3]\n",
            "   [ 4  5  6]]\n",
            "\n",
            "  [[ 7  8  9]\n",
            "   [10 11 12]]]], shape=(2, 2, 2, 3), dtype=int32)\n"
          ]
        }
      ]
    },
    {
      "cell_type": "code",
      "source": [
        "print(tensor_4d.shape)"
      ],
      "metadata": {
        "colab": {
          "base_uri": "https://localhost:8080/"
        },
        "id": "qmD694Fg1tNY",
        "outputId": "d9d51ffc-367b-4bc6-a7f8-24aee81981c2"
      },
      "execution_count": null,
      "outputs": [
        {
          "output_type": "stream",
          "name": "stdout",
          "text": [
            "(2, 2, 2, 3)\n"
          ]
        }
      ]
    },
    {
      "cell_type": "code",
      "source": [
        "print(tensor_4d.ndim)"
      ],
      "metadata": {
        "colab": {
          "base_uri": "https://localhost:8080/"
        },
        "id": "lE-DB6kG1xOA",
        "outputId": "5f40e827-f226-4f40-d17b-d2dc73819fc8"
      },
      "execution_count": null,
      "outputs": [
        {
          "output_type": "stream",
          "name": "stdout",
          "text": [
            "4\n"
          ]
        }
      ]
    },
    {
      "cell_type": "code",
      "source": [
        "import numpy as np\n",
        "\n",
        "arr = np.array([1,2,3,4,5])"
      ],
      "metadata": {
        "id": "qGhOhDcB17Xs"
      },
      "execution_count": null,
      "outputs": []
    },
    {
      "cell_type": "code",
      "source": [
        "numpy_to_tensor = tf.convert_to_tensor(arr)\n",
        "print(numpy_to_tensor)\n",
        "print(numpy_to_tensor.shape)\n",
        "print(numpy_to_tensor.ndim)"
      ],
      "metadata": {
        "colab": {
          "base_uri": "https://localhost:8080/"
        },
        "id": "VQajdEXW8h24",
        "outputId": "f8df69f1-ceec-41aa-85fa-8d1d53c32212"
      },
      "execution_count": null,
      "outputs": [
        {
          "output_type": "stream",
          "name": "stdout",
          "text": [
            "tf.Tensor([1 2 3 4 5], shape=(5,), dtype=int64)\n",
            "(5,)\n",
            "1\n"
          ]
        }
      ]
    },
    {
      "cell_type": "code",
      "source": [
        "print(arr.shape)\n",
        "print(arr.ndim)"
      ],
      "metadata": {
        "colab": {
          "base_uri": "https://localhost:8080/"
        },
        "id": "EcyZZVjQ82uv",
        "outputId": "9671e041-82ba-41ba-e000-dfd2a54cbd28"
      },
      "execution_count": null,
      "outputs": [
        {
          "output_type": "stream",
          "name": "stdout",
          "text": [
            "(5,)\n",
            "1\n"
          ]
        }
      ]
    },
    {
      "cell_type": "code",
      "source": [
        "numpy_to_tensor.dtype"
      ],
      "metadata": {
        "colab": {
          "base_uri": "https://localhost:8080/"
        },
        "id": "94ww3pHS9VNQ",
        "outputId": "0fcbab13-eded-4696-ffc3-2a153378a584"
      },
      "execution_count": null,
      "outputs": [
        {
          "output_type": "execute_result",
          "data": {
            "text/plain": [
              "tf.int64"
            ]
          },
          "metadata": {},
          "execution_count": 14
        }
      ]
    },
    {
      "cell_type": "code",
      "source": [
        "tf_cast = tf.cast(numpy_to_tensor, dtype = tf.float32)\n",
        "print(tf_cast)"
      ],
      "metadata": {
        "colab": {
          "base_uri": "https://localhost:8080/"
        },
        "id": "slM9s3439eLI",
        "outputId": "4b8e4f08-050f-4263-fbc4-c1e98957aebe"
      },
      "execution_count": null,
      "outputs": [
        {
          "output_type": "stream",
          "name": "stdout",
          "text": [
            "tf.Tensor([1. 2. 3. 4. 5.], shape=(5,), dtype=float32)\n"
          ]
        }
      ]
    },
    {
      "cell_type": "code",
      "source": [
        "tf_val = tf.eye(\n",
        "\n",
        "       num_rows= 5,\n",
        "       num_columns=None,\n",
        "       batch_shape = [5,5],\n",
        "       dtype = tf.dtypes.int32,\n",
        "       name = None\n",
        ")"
      ],
      "metadata": {
        "id": "c6pv8yVs9i5Y"
      },
      "execution_count": null,
      "outputs": []
    },
    {
      "cell_type": "code",
      "source": [
        "print(tf_val)"
      ],
      "metadata": {
        "id": "WLEs20W7t6oX",
        "outputId": "97d696c7-196b-48fe-b8d6-172bf6a36269",
        "colab": {
          "base_uri": "https://localhost:8080/"
        }
      },
      "execution_count": null,
      "outputs": [
        {
          "output_type": "stream",
          "name": "stdout",
          "text": [
            "tf.Tensor(\n",
            "[[[[1 0 0 0 0]\n",
            "   [0 1 0 0 0]\n",
            "   [0 0 1 0 0]\n",
            "   [0 0 0 1 0]\n",
            "   [0 0 0 0 1]]\n",
            "\n",
            "  [[1 0 0 0 0]\n",
            "   [0 1 0 0 0]\n",
            "   [0 0 1 0 0]\n",
            "   [0 0 0 1 0]\n",
            "   [0 0 0 0 1]]\n",
            "\n",
            "  [[1 0 0 0 0]\n",
            "   [0 1 0 0 0]\n",
            "   [0 0 1 0 0]\n",
            "   [0 0 0 1 0]\n",
            "   [0 0 0 0 1]]\n",
            "\n",
            "  [[1 0 0 0 0]\n",
            "   [0 1 0 0 0]\n",
            "   [0 0 1 0 0]\n",
            "   [0 0 0 1 0]\n",
            "   [0 0 0 0 1]]\n",
            "\n",
            "  [[1 0 0 0 0]\n",
            "   [0 1 0 0 0]\n",
            "   [0 0 1 0 0]\n",
            "   [0 0 0 1 0]\n",
            "   [0 0 0 0 1]]]\n",
            "\n",
            "\n",
            " [[[1 0 0 0 0]\n",
            "   [0 1 0 0 0]\n",
            "   [0 0 1 0 0]\n",
            "   [0 0 0 1 0]\n",
            "   [0 0 0 0 1]]\n",
            "\n",
            "  [[1 0 0 0 0]\n",
            "   [0 1 0 0 0]\n",
            "   [0 0 1 0 0]\n",
            "   [0 0 0 1 0]\n",
            "   [0 0 0 0 1]]\n",
            "\n",
            "  [[1 0 0 0 0]\n",
            "   [0 1 0 0 0]\n",
            "   [0 0 1 0 0]\n",
            "   [0 0 0 1 0]\n",
            "   [0 0 0 0 1]]\n",
            "\n",
            "  [[1 0 0 0 0]\n",
            "   [0 1 0 0 0]\n",
            "   [0 0 1 0 0]\n",
            "   [0 0 0 1 0]\n",
            "   [0 0 0 0 1]]\n",
            "\n",
            "  [[1 0 0 0 0]\n",
            "   [0 1 0 0 0]\n",
            "   [0 0 1 0 0]\n",
            "   [0 0 0 1 0]\n",
            "   [0 0 0 0 1]]]\n",
            "\n",
            "\n",
            " [[[1 0 0 0 0]\n",
            "   [0 1 0 0 0]\n",
            "   [0 0 1 0 0]\n",
            "   [0 0 0 1 0]\n",
            "   [0 0 0 0 1]]\n",
            "\n",
            "  [[1 0 0 0 0]\n",
            "   [0 1 0 0 0]\n",
            "   [0 0 1 0 0]\n",
            "   [0 0 0 1 0]\n",
            "   [0 0 0 0 1]]\n",
            "\n",
            "  [[1 0 0 0 0]\n",
            "   [0 1 0 0 0]\n",
            "   [0 0 1 0 0]\n",
            "   [0 0 0 1 0]\n",
            "   [0 0 0 0 1]]\n",
            "\n",
            "  [[1 0 0 0 0]\n",
            "   [0 1 0 0 0]\n",
            "   [0 0 1 0 0]\n",
            "   [0 0 0 1 0]\n",
            "   [0 0 0 0 1]]\n",
            "\n",
            "  [[1 0 0 0 0]\n",
            "   [0 1 0 0 0]\n",
            "   [0 0 1 0 0]\n",
            "   [0 0 0 1 0]\n",
            "   [0 0 0 0 1]]]\n",
            "\n",
            "\n",
            " [[[1 0 0 0 0]\n",
            "   [0 1 0 0 0]\n",
            "   [0 0 1 0 0]\n",
            "   [0 0 0 1 0]\n",
            "   [0 0 0 0 1]]\n",
            "\n",
            "  [[1 0 0 0 0]\n",
            "   [0 1 0 0 0]\n",
            "   [0 0 1 0 0]\n",
            "   [0 0 0 1 0]\n",
            "   [0 0 0 0 1]]\n",
            "\n",
            "  [[1 0 0 0 0]\n",
            "   [0 1 0 0 0]\n",
            "   [0 0 1 0 0]\n",
            "   [0 0 0 1 0]\n",
            "   [0 0 0 0 1]]\n",
            "\n",
            "  [[1 0 0 0 0]\n",
            "   [0 1 0 0 0]\n",
            "   [0 0 1 0 0]\n",
            "   [0 0 0 1 0]\n",
            "   [0 0 0 0 1]]\n",
            "\n",
            "  [[1 0 0 0 0]\n",
            "   [0 1 0 0 0]\n",
            "   [0 0 1 0 0]\n",
            "   [0 0 0 1 0]\n",
            "   [0 0 0 0 1]]]\n",
            "\n",
            "\n",
            " [[[1 0 0 0 0]\n",
            "   [0 1 0 0 0]\n",
            "   [0 0 1 0 0]\n",
            "   [0 0 0 1 0]\n",
            "   [0 0 0 0 1]]\n",
            "\n",
            "  [[1 0 0 0 0]\n",
            "   [0 1 0 0 0]\n",
            "   [0 0 1 0 0]\n",
            "   [0 0 0 1 0]\n",
            "   [0 0 0 0 1]]\n",
            "\n",
            "  [[1 0 0 0 0]\n",
            "   [0 1 0 0 0]\n",
            "   [0 0 1 0 0]\n",
            "   [0 0 0 1 0]\n",
            "   [0 0 0 0 1]]\n",
            "\n",
            "  [[1 0 0 0 0]\n",
            "   [0 1 0 0 0]\n",
            "   [0 0 1 0 0]\n",
            "   [0 0 0 1 0]\n",
            "   [0 0 0 0 1]]\n",
            "\n",
            "  [[1 0 0 0 0]\n",
            "   [0 1 0 0 0]\n",
            "   [0 0 1 0 0]\n",
            "   [0 0 0 1 0]\n",
            "   [0 0 0 0 1]]]], shape=(5, 5, 5, 5), dtype=int32)\n"
          ]
        }
      ]
    },
    {
      "cell_type": "code",
      "source": [
        "three_d_tensor  = tf.constant(\n",
        "        [\n",
        "            [\n",
        "                [1,2,3],[4,5,6]\n",
        "            ],\n",
        "            [\n",
        "                [7,8,9],[10,11,12]\n",
        "            ],\n",
        "            [\n",
        "                [13,14,15],[16,17,18]\n",
        "            ]\n",
        "        ]\n",
        "    )\n",
        "three_d_tensor"
      ],
      "metadata": {
        "id": "5k_NGjWPt8mu",
        "colab": {
          "base_uri": "https://localhost:8080/"
        },
        "outputId": "8218c68f-4a5f-470b-8c3e-857d03a4405f"
      },
      "execution_count": null,
      "outputs": [
        {
          "output_type": "execute_result",
          "data": {
            "text/plain": [
              "<tf.Tensor: shape=(3, 2, 3), dtype=int32, numpy=\n",
              "array([[[ 1,  2,  3],\n",
              "        [ 4,  5,  6]],\n",
              "\n",
              "       [[ 7,  8,  9],\n",
              "        [10, 11, 12]],\n",
              "\n",
              "       [[13, 14, 15],\n",
              "        [16, 17, 18]]], dtype=int32)>"
            ]
          },
          "metadata": {},
          "execution_count": 18
        }
      ]
    },
    {
      "cell_type": "code",
      "source": [
        "three_d_tensor[0:1, 0:1, 0:]"
      ],
      "metadata": {
        "colab": {
          "base_uri": "https://localhost:8080/"
        },
        "id": "Hzc2ej3cY0Li",
        "outputId": "3c7046d3-0857-4792-ebf1-5b73bb908dc8"
      },
      "execution_count": null,
      "outputs": [
        {
          "output_type": "execute_result",
          "data": {
            "text/plain": [
              "<tf.Tensor: shape=(1, 1, 3), dtype=int32, numpy=array([[[1, 2, 3]]], dtype=int32)>"
            ]
          },
          "metadata": {},
          "execution_count": 19
        }
      ]
    },
    {
      "cell_type": "code",
      "source": [
        "## math module"
      ],
      "metadata": {
        "id": "3BvvD6D6a78S"
      },
      "execution_count": null,
      "outputs": []
    },
    {
      "cell_type": "code",
      "source": [
        "tf.math.abs(-9)"
      ],
      "metadata": {
        "colab": {
          "base_uri": "https://localhost:8080/"
        },
        "id": "5P3hvXkDgR3s",
        "outputId": "a76192c9-4d8b-45a8-9e8e-c6dff1a052d9"
      },
      "execution_count": null,
      "outputs": [
        {
          "output_type": "execute_result",
          "data": {
            "text/plain": [
              "<tf.Tensor: shape=(), dtype=int32, numpy=9>"
            ]
          },
          "metadata": {},
          "execution_count": 21
        }
      ]
    },
    {
      "cell_type": "code",
      "source": [
        "x = tf.constant([50,60,70])\n",
        "print(tf.math.sin(tf.cast(x, dtype=tf.float32)))"
      ],
      "metadata": {
        "colab": {
          "base_uri": "https://localhost:8080/"
        },
        "id": "3NGtVFwogU4s",
        "outputId": "7be8da14-9c12-46ec-d5e5-c53ce9fb9fbc"
      },
      "execution_count": null,
      "outputs": [
        {
          "output_type": "stream",
          "name": "stdout",
          "text": [
            "tf.Tensor([-0.26237485 -0.3048106   0.7738907 ], shape=(3,), dtype=float32)\n"
          ]
        }
      ]
    },
    {
      "cell_type": "code",
      "source": [
        "val = tf.constant([3+4j])\n",
        "tf.abs(val)"
      ],
      "metadata": {
        "id": "92THeylciduu",
        "colab": {
          "base_uri": "https://localhost:8080/"
        },
        "outputId": "7a0e173b-96c7-4a67-b591-f39bf8a50bec"
      },
      "execution_count": null,
      "outputs": [
        {
          "output_type": "execute_result",
          "data": {
            "text/plain": [
              "<tf.Tensor: shape=(1,), dtype=float64, numpy=array([5.])>"
            ]
          },
          "metadata": {},
          "execution_count": 23
        }
      ]
    },
    {
      "cell_type": "code",
      "source": [
        "x = tf.constant([1,2,3])\n",
        "y = tf.constant([10])\n",
        "y_stretched = tf.constant([10,10,10])\n",
        "\n",
        "print(tf.math.add(x,y) == tf.math.add(x,y_stretched))"
      ],
      "metadata": {
        "colab": {
          "base_uri": "https://localhost:8080/"
        },
        "id": "8QCUgrrhj2zY",
        "outputId": "5e3c1e9b-20a4-48ce-b0af-4dd9e09399ea"
      },
      "execution_count": null,
      "outputs": [
        {
          "output_type": "stream",
          "name": "stdout",
          "text": [
            "tf.Tensor([ True  True  True], shape=(3,), dtype=bool)\n"
          ]
        }
      ]
    },
    {
      "cell_type": "code",
      "source": [
        "x = tf.constant([1,2,3])\n",
        "y = tf.constant([[10],[20],[30]])\n",
        "\n",
        "print(tf.math.multiply(x,y))"
      ],
      "metadata": {
        "colab": {
          "base_uri": "https://localhost:8080/"
        },
        "id": "LAEkRvhEmVzc",
        "outputId": "ff8f50ef-eacf-44ab-ef42-8300b4c85251"
      },
      "execution_count": null,
      "outputs": [
        {
          "output_type": "stream",
          "name": "stdout",
          "text": [
            "tf.Tensor(\n",
            "[[10 20 30]\n",
            " [20 40 60]\n",
            " [30 60 90]], shape=(3, 3), dtype=int32)\n"
          ]
        }
      ]
    },
    {
      "cell_type": "code",
      "source": [
        "x = tf.constant([1,2,3])\n",
        "y = tf.constant([-2,4,6])\n",
        "\n",
        "tf.maximum(x,y)"
      ],
      "metadata": {
        "colab": {
          "base_uri": "https://localhost:8080/"
        },
        "id": "_fAhTPPRmnAd",
        "outputId": "83fcad50-c130-4cc5-c973-d03b8a195368"
      },
      "execution_count": null,
      "outputs": [
        {
          "output_type": "execute_result",
          "data": {
            "text/plain": [
              "<tf.Tensor: shape=(3,), dtype=int32, numpy=array([1, 4, 6], dtype=int32)>"
            ]
          },
          "metadata": {},
          "execution_count": 26
        }
      ]
    },
    {
      "cell_type": "code",
      "source": [
        "print(tf.math.argmax(x))"
      ],
      "metadata": {
        "id": "Bh7GECOFnLq3",
        "outputId": "73f0948f-d54e-42b3-d080-5c8eeb475a84",
        "colab": {
          "base_uri": "https://localhost:8080/"
        }
      },
      "execution_count": null,
      "outputs": [
        {
          "output_type": "stream",
          "name": "stdout",
          "text": [
            "tf.Tensor(2, shape=(), dtype=int64)\n"
          ]
        }
      ]
    },
    {
      "cell_type": "code",
      "source": [],
      "metadata": {
        "id": "JK_bVJ9NnrO6"
      },
      "execution_count": null,
      "outputs": []
    }
  ]
}