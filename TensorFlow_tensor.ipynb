{
  "nbformat": 4,
  "nbformat_minor": 0,
  "metadata": {
    "colab": {
      "provenance": [],
      "authorship_tag": "ABX9TyPQE+JkjGRlFKjcnMf0Iws+",
      "include_colab_link": true
    },
    "kernelspec": {
      "name": "python3",
      "display_name": "Python 3"
    },
    "language_info": {
      "name": "python"
    }
  },
  "cells": [
    {
      "cell_type": "markdown",
      "metadata": {
        "id": "view-in-github",
        "colab_type": "text"
      },
      "source": [
        "<a href=\"https://colab.research.google.com/github/christopherjneelankavil/tensorflow_basics/blob/main/TensorFlow_tensor.ipynb\" target=\"_parent\"><img src=\"https://colab.research.google.com/assets/colab-badge.svg\" alt=\"Open In Colab\"/></a>"
      ]
    },
    {
      "cell_type": "code",
      "execution_count": 3,
      "metadata": {
        "id": "dbdYxcuDZMLg"
      },
      "outputs": [],
      "source": [
        "import tensorflow as tf"
      ]
    },
    {
      "cell_type": "code",
      "source": [
        "zero_d_value = tf.constant(5, dtype=tf.int32)\n",
        "print(zero_d_value)"
      ],
      "metadata": {
        "colab": {
          "base_uri": "https://localhost:8080/"
        },
        "id": "iQY0U1_QZ134",
        "outputId": "d60fcca7-84f6-434c-a064-bfb2f5514e00"
      },
      "execution_count": 4,
      "outputs": [
        {
          "output_type": "stream",
          "name": "stdout",
          "text": [
            "tf.Tensor(5, shape=(), dtype=int32)\n"
          ]
        }
      ]
    },
    {
      "cell_type": "code",
      "source": [
        "tensor_one_d = tf.constant([1,2,3,4,5])\n",
        "print(tensor_one_d)"
      ],
      "metadata": {
        "colab": {
          "base_uri": "https://localhost:8080/"
        },
        "id": "rJu6_vur0UDU",
        "outputId": "3a84196d-1d7d-4a54-b048-fa17f773e6bc"
      },
      "execution_count": 5,
      "outputs": [
        {
          "output_type": "stream",
          "name": "stdout",
          "text": [
            "tf.Tensor([1 2 3 4 5], shape=(5,), dtype=int32)\n"
          ]
        }
      ]
    },
    {
      "cell_type": "code",
      "source": [
        "tensor_2d = tf.constant([[1,2,3],[4,5,6]])\n",
        "print(tensor_2d)"
      ],
      "metadata": {
        "colab": {
          "base_uri": "https://localhost:8080/"
        },
        "id": "5hBmhdvK0YZ-",
        "outputId": "76a16eac-ff8c-4a48-bedb-2833a4bd9297"
      },
      "execution_count": 6,
      "outputs": [
        {
          "output_type": "stream",
          "name": "stdout",
          "text": [
            "tf.Tensor(\n",
            "[[1 2 3]\n",
            " [4 5 6]], shape=(2, 3), dtype=int32)\n"
          ]
        }
      ]
    },
    {
      "cell_type": "code",
      "source": [
        "tensor_3d = tf.constant([[[1,2,3],[4,5,6]],[[7,8,9],[10,11,12]]])\n",
        "print(tensor_3d)"
      ],
      "metadata": {
        "colab": {
          "base_uri": "https://localhost:8080/"
        },
        "id": "W8a3XQK00cN0",
        "outputId": "f66f8027-a44f-4a5f-dc23-ae99515f3197"
      },
      "execution_count": 7,
      "outputs": [
        {
          "output_type": "stream",
          "name": "stdout",
          "text": [
            "tf.Tensor(\n",
            "[[[ 1  2  3]\n",
            "  [ 4  5  6]]\n",
            "\n",
            " [[ 7  8  9]\n",
            "  [10 11 12]]], shape=(2, 2, 3), dtype=int32)\n"
          ]
        }
      ]
    },
    {
      "cell_type": "code",
      "source": [
        "print(tensor_3d.shape)"
      ],
      "metadata": {
        "colab": {
          "base_uri": "https://localhost:8080/"
        },
        "id": "VQPAe_l60fjx",
        "outputId": "a554cd62-385f-44db-91f3-d4d90b47d146"
      },
      "execution_count": 8,
      "outputs": [
        {
          "output_type": "stream",
          "name": "stdout",
          "text": [
            "(2, 2, 3)\n"
          ]
        }
      ]
    },
    {
      "cell_type": "code",
      "source": [
        "print(tensor_3d.ndim)"
      ],
      "metadata": {
        "colab": {
          "base_uri": "https://localhost:8080/"
        },
        "id": "jLUaE1Wx1HjA",
        "outputId": "6a5baa94-ad1b-40c6-8370-cce3547263c5"
      },
      "execution_count": 9,
      "outputs": [
        {
          "output_type": "stream",
          "name": "stdout",
          "text": [
            "3\n"
          ]
        }
      ]
    },
    {
      "cell_type": "code",
      "source": [
        "tensor_4d = tf.constant([[[[1,2,3],[4,5,6]],[[7,8,9],[10,11,12]]],[[[1,2,3],[4,5,6]],[[7,8,9],[10,11,12]]]])\n",
        "print(tensor_4d)"
      ],
      "metadata": {
        "colab": {
          "base_uri": "https://localhost:8080/"
        },
        "id": "TjNVAAhs1NGr",
        "outputId": "41043e21-d9a9-4526-bad5-ffeaa9ff387a"
      },
      "execution_count": 10,
      "outputs": [
        {
          "output_type": "stream",
          "name": "stdout",
          "text": [
            "tf.Tensor(\n",
            "[[[[ 1  2  3]\n",
            "   [ 4  5  6]]\n",
            "\n",
            "  [[ 7  8  9]\n",
            "   [10 11 12]]]\n",
            "\n",
            "\n",
            " [[[ 1  2  3]\n",
            "   [ 4  5  6]]\n",
            "\n",
            "  [[ 7  8  9]\n",
            "   [10 11 12]]]], shape=(2, 2, 2, 3), dtype=int32)\n"
          ]
        }
      ]
    },
    {
      "cell_type": "code",
      "source": [
        "print(tensor_4d.shape)"
      ],
      "metadata": {
        "colab": {
          "base_uri": "https://localhost:8080/"
        },
        "id": "qmD694Fg1tNY",
        "outputId": "7ff12883-ae90-4dfd-8c89-071ff39ed638"
      },
      "execution_count": 11,
      "outputs": [
        {
          "output_type": "stream",
          "name": "stdout",
          "text": [
            "(2, 2, 2, 3)\n"
          ]
        }
      ]
    },
    {
      "cell_type": "code",
      "source": [
        "print(tensor_4d.ndim)"
      ],
      "metadata": {
        "colab": {
          "base_uri": "https://localhost:8080/"
        },
        "id": "lE-DB6kG1xOA",
        "outputId": "e328edb3-dc75-4caf-f39a-922311133aee"
      },
      "execution_count": 12,
      "outputs": [
        {
          "output_type": "stream",
          "name": "stdout",
          "text": [
            "4\n"
          ]
        }
      ]
    },
    {
      "cell_type": "code",
      "source": [
        "import numpy as np\n",
        "\n",
        "arr = np.array([1,2,3,4,5])"
      ],
      "metadata": {
        "id": "qGhOhDcB17Xs"
      },
      "execution_count": 13,
      "outputs": []
    },
    {
      "cell_type": "code",
      "source": [
        "numpy_to_tensor = tf.convert_to_tensor(arr)\n",
        "print(numpy_to_tensor)\n",
        "print(numpy_to_tensor.shape)\n",
        "print(numpy_to_tensor.ndim)"
      ],
      "metadata": {
        "colab": {
          "base_uri": "https://localhost:8080/"
        },
        "id": "VQajdEXW8h24",
        "outputId": "8127a53a-c7e0-4075-8259-648b462cc950"
      },
      "execution_count": 14,
      "outputs": [
        {
          "output_type": "stream",
          "name": "stdout",
          "text": [
            "tf.Tensor([1 2 3 4 5], shape=(5,), dtype=int64)\n",
            "(5,)\n",
            "1\n"
          ]
        }
      ]
    },
    {
      "cell_type": "code",
      "source": [
        "print(arr.shape)\n",
        "print(arr.ndim)"
      ],
      "metadata": {
        "colab": {
          "base_uri": "https://localhost:8080/"
        },
        "id": "EcyZZVjQ82uv",
        "outputId": "50deac93-462f-4f5f-d96a-e23da9b6df82"
      },
      "execution_count": 15,
      "outputs": [
        {
          "output_type": "stream",
          "name": "stdout",
          "text": [
            "(5,)\n",
            "1\n"
          ]
        }
      ]
    },
    {
      "cell_type": "code",
      "source": [
        "numpy_to_tensor.dtype"
      ],
      "metadata": {
        "colab": {
          "base_uri": "https://localhost:8080/"
        },
        "id": "94ww3pHS9VNQ",
        "outputId": "04b89cd7-cdc3-44db-c71e-60261ea62eac"
      },
      "execution_count": 16,
      "outputs": [
        {
          "output_type": "execute_result",
          "data": {
            "text/plain": [
              "tf.int64"
            ]
          },
          "metadata": {},
          "execution_count": 16
        }
      ]
    },
    {
      "cell_type": "code",
      "source": [
        "tf_cast = tf.cast(numpy_to_tensor, dtype = tf.float32)\n",
        "print(tf_cast)"
      ],
      "metadata": {
        "colab": {
          "base_uri": "https://localhost:8080/"
        },
        "id": "slM9s3439eLI",
        "outputId": "10453a29-0548-4c04-8218-1e84f8114e89"
      },
      "execution_count": 17,
      "outputs": [
        {
          "output_type": "stream",
          "name": "stdout",
          "text": [
            "tf.Tensor([1. 2. 3. 4. 5.], shape=(5,), dtype=float32)\n"
          ]
        }
      ]
    },
    {
      "cell_type": "code",
      "source": [
        "tf_val = tf.eye(\n",
        "\n",
        "       num_rows= 5,\n",
        "       num_columns=None,\n",
        "       batch_shape = [5,5],\n",
        "       dtype = tf.dtypes.int32,\n",
        "       name = None\n",
        ")"
      ],
      "metadata": {
        "id": "c6pv8yVs9i5Y"
      },
      "execution_count": 18,
      "outputs": []
    },
    {
      "cell_type": "code",
      "source": [
        "print(tf_val)"
      ],
      "metadata": {
        "id": "WLEs20W7t6oX",
        "outputId": "77f2258a-f11d-47b1-dbf4-d18171d311f7",
        "colab": {
          "base_uri": "https://localhost:8080/"
        }
      },
      "execution_count": 19,
      "outputs": [
        {
          "output_type": "stream",
          "name": "stdout",
          "text": [
            "tf.Tensor(\n",
            "[[[[1 0 0 0 0]\n",
            "   [0 1 0 0 0]\n",
            "   [0 0 1 0 0]\n",
            "   [0 0 0 1 0]\n",
            "   [0 0 0 0 1]]\n",
            "\n",
            "  [[1 0 0 0 0]\n",
            "   [0 1 0 0 0]\n",
            "   [0 0 1 0 0]\n",
            "   [0 0 0 1 0]\n",
            "   [0 0 0 0 1]]\n",
            "\n",
            "  [[1 0 0 0 0]\n",
            "   [0 1 0 0 0]\n",
            "   [0 0 1 0 0]\n",
            "   [0 0 0 1 0]\n",
            "   [0 0 0 0 1]]\n",
            "\n",
            "  [[1 0 0 0 0]\n",
            "   [0 1 0 0 0]\n",
            "   [0 0 1 0 0]\n",
            "   [0 0 0 1 0]\n",
            "   [0 0 0 0 1]]\n",
            "\n",
            "  [[1 0 0 0 0]\n",
            "   [0 1 0 0 0]\n",
            "   [0 0 1 0 0]\n",
            "   [0 0 0 1 0]\n",
            "   [0 0 0 0 1]]]\n",
            "\n",
            "\n",
            " [[[1 0 0 0 0]\n",
            "   [0 1 0 0 0]\n",
            "   [0 0 1 0 0]\n",
            "   [0 0 0 1 0]\n",
            "   [0 0 0 0 1]]\n",
            "\n",
            "  [[1 0 0 0 0]\n",
            "   [0 1 0 0 0]\n",
            "   [0 0 1 0 0]\n",
            "   [0 0 0 1 0]\n",
            "   [0 0 0 0 1]]\n",
            "\n",
            "  [[1 0 0 0 0]\n",
            "   [0 1 0 0 0]\n",
            "   [0 0 1 0 0]\n",
            "   [0 0 0 1 0]\n",
            "   [0 0 0 0 1]]\n",
            "\n",
            "  [[1 0 0 0 0]\n",
            "   [0 1 0 0 0]\n",
            "   [0 0 1 0 0]\n",
            "   [0 0 0 1 0]\n",
            "   [0 0 0 0 1]]\n",
            "\n",
            "  [[1 0 0 0 0]\n",
            "   [0 1 0 0 0]\n",
            "   [0 0 1 0 0]\n",
            "   [0 0 0 1 0]\n",
            "   [0 0 0 0 1]]]\n",
            "\n",
            "\n",
            " [[[1 0 0 0 0]\n",
            "   [0 1 0 0 0]\n",
            "   [0 0 1 0 0]\n",
            "   [0 0 0 1 0]\n",
            "   [0 0 0 0 1]]\n",
            "\n",
            "  [[1 0 0 0 0]\n",
            "   [0 1 0 0 0]\n",
            "   [0 0 1 0 0]\n",
            "   [0 0 0 1 0]\n",
            "   [0 0 0 0 1]]\n",
            "\n",
            "  [[1 0 0 0 0]\n",
            "   [0 1 0 0 0]\n",
            "   [0 0 1 0 0]\n",
            "   [0 0 0 1 0]\n",
            "   [0 0 0 0 1]]\n",
            "\n",
            "  [[1 0 0 0 0]\n",
            "   [0 1 0 0 0]\n",
            "   [0 0 1 0 0]\n",
            "   [0 0 0 1 0]\n",
            "   [0 0 0 0 1]]\n",
            "\n",
            "  [[1 0 0 0 0]\n",
            "   [0 1 0 0 0]\n",
            "   [0 0 1 0 0]\n",
            "   [0 0 0 1 0]\n",
            "   [0 0 0 0 1]]]\n",
            "\n",
            "\n",
            " [[[1 0 0 0 0]\n",
            "   [0 1 0 0 0]\n",
            "   [0 0 1 0 0]\n",
            "   [0 0 0 1 0]\n",
            "   [0 0 0 0 1]]\n",
            "\n",
            "  [[1 0 0 0 0]\n",
            "   [0 1 0 0 0]\n",
            "   [0 0 1 0 0]\n",
            "   [0 0 0 1 0]\n",
            "   [0 0 0 0 1]]\n",
            "\n",
            "  [[1 0 0 0 0]\n",
            "   [0 1 0 0 0]\n",
            "   [0 0 1 0 0]\n",
            "   [0 0 0 1 0]\n",
            "   [0 0 0 0 1]]\n",
            "\n",
            "  [[1 0 0 0 0]\n",
            "   [0 1 0 0 0]\n",
            "   [0 0 1 0 0]\n",
            "   [0 0 0 1 0]\n",
            "   [0 0 0 0 1]]\n",
            "\n",
            "  [[1 0 0 0 0]\n",
            "   [0 1 0 0 0]\n",
            "   [0 0 1 0 0]\n",
            "   [0 0 0 1 0]\n",
            "   [0 0 0 0 1]]]\n",
            "\n",
            "\n",
            " [[[1 0 0 0 0]\n",
            "   [0 1 0 0 0]\n",
            "   [0 0 1 0 0]\n",
            "   [0 0 0 1 0]\n",
            "   [0 0 0 0 1]]\n",
            "\n",
            "  [[1 0 0 0 0]\n",
            "   [0 1 0 0 0]\n",
            "   [0 0 1 0 0]\n",
            "   [0 0 0 1 0]\n",
            "   [0 0 0 0 1]]\n",
            "\n",
            "  [[1 0 0 0 0]\n",
            "   [0 1 0 0 0]\n",
            "   [0 0 1 0 0]\n",
            "   [0 0 0 1 0]\n",
            "   [0 0 0 0 1]]\n",
            "\n",
            "  [[1 0 0 0 0]\n",
            "   [0 1 0 0 0]\n",
            "   [0 0 1 0 0]\n",
            "   [0 0 0 1 0]\n",
            "   [0 0 0 0 1]]\n",
            "\n",
            "  [[1 0 0 0 0]\n",
            "   [0 1 0 0 0]\n",
            "   [0 0 1 0 0]\n",
            "   [0 0 0 1 0]\n",
            "   [0 0 0 0 1]]]], shape=(5, 5, 5, 5), dtype=int32)\n"
          ]
        }
      ]
    },
    {
      "cell_type": "code",
      "source": [
        "three_d_tensor  = tf.constant(\n",
        "        [\n",
        "            [\n",
        "                [1,2,3],[4,5,6]\n",
        "            ],\n",
        "            [\n",
        "                [7,8,9],[10,11,12]\n",
        "            ],\n",
        "            [\n",
        "                [13,14,15],[16,17,18]\n",
        "            ]\n",
        "        ]\n",
        "    )\n",
        "three_d_tensor"
      ],
      "metadata": {
        "id": "5k_NGjWPt8mu",
        "colab": {
          "base_uri": "https://localhost:8080/"
        },
        "outputId": "41f4981a-211e-4624-8a1e-b502b0e3e84f"
      },
      "execution_count": 20,
      "outputs": [
        {
          "output_type": "execute_result",
          "data": {
            "text/plain": [
              "<tf.Tensor: shape=(3, 2, 3), dtype=int32, numpy=\n",
              "array([[[ 1,  2,  3],\n",
              "        [ 4,  5,  6]],\n",
              "\n",
              "       [[ 7,  8,  9],\n",
              "        [10, 11, 12]],\n",
              "\n",
              "       [[13, 14, 15],\n",
              "        [16, 17, 18]]], dtype=int32)>"
            ]
          },
          "metadata": {},
          "execution_count": 20
        }
      ]
    },
    {
      "cell_type": "code",
      "source": [
        "three_d_tensor[0:1, 0:1, 0:]"
      ],
      "metadata": {
        "colab": {
          "base_uri": "https://localhost:8080/"
        },
        "id": "Hzc2ej3cY0Li",
        "outputId": "52ea1f5b-8dee-4bc2-d6b3-34d20eff0ace"
      },
      "execution_count": 21,
      "outputs": [
        {
          "output_type": "execute_result",
          "data": {
            "text/plain": [
              "<tf.Tensor: shape=(1, 1, 3), dtype=int32, numpy=array([[[1, 2, 3]]], dtype=int32)>"
            ]
          },
          "metadata": {},
          "execution_count": 21
        }
      ]
    },
    {
      "cell_type": "code",
      "source": [
        "## math module"
      ],
      "metadata": {
        "id": "3BvvD6D6a78S"
      },
      "execution_count": 22,
      "outputs": []
    },
    {
      "cell_type": "code",
      "source": [
        "tf.math.abs(-9)"
      ],
      "metadata": {
        "colab": {
          "base_uri": "https://localhost:8080/"
        },
        "id": "5P3hvXkDgR3s",
        "outputId": "f4abfcaf-180d-4db6-cfa9-8de98f70cb0f"
      },
      "execution_count": 23,
      "outputs": [
        {
          "output_type": "execute_result",
          "data": {
            "text/plain": [
              "<tf.Tensor: shape=(), dtype=int32, numpy=9>"
            ]
          },
          "metadata": {},
          "execution_count": 23
        }
      ]
    },
    {
      "cell_type": "code",
      "source": [
        "x = tf.constant([50,60,70])\n",
        "print(tf.math.sin(tf.cast(x, dtype=tf.float32)))"
      ],
      "metadata": {
        "colab": {
          "base_uri": "https://localhost:8080/"
        },
        "id": "3NGtVFwogU4s",
        "outputId": "e83ac07a-bc56-428b-f99f-fc5db90bd028"
      },
      "execution_count": 24,
      "outputs": [
        {
          "output_type": "stream",
          "name": "stdout",
          "text": [
            "tf.Tensor([-0.26237485 -0.3048106   0.7738907 ], shape=(3,), dtype=float32)\n"
          ]
        }
      ]
    },
    {
      "cell_type": "code",
      "source": [
        "val = tf.constant([3+4j])\n",
        "tf.abs(val)"
      ],
      "metadata": {
        "id": "92THeylciduu",
        "colab": {
          "base_uri": "https://localhost:8080/"
        },
        "outputId": "201583e9-528b-4ac0-f021-b8f924ac0335"
      },
      "execution_count": 25,
      "outputs": [
        {
          "output_type": "execute_result",
          "data": {
            "text/plain": [
              "<tf.Tensor: shape=(1,), dtype=float64, numpy=array([5.])>"
            ]
          },
          "metadata": {},
          "execution_count": 25
        }
      ]
    },
    {
      "cell_type": "code",
      "source": [
        "x = tf.constant([1,2,3])\n",
        "y = tf.constant([10])\n",
        "y_stretched = tf.constant([10,10,10])\n",
        "\n",
        "print(tf.math.add(x,y) == tf.math.add(x,y_stretched))"
      ],
      "metadata": {
        "colab": {
          "base_uri": "https://localhost:8080/"
        },
        "id": "8QCUgrrhj2zY",
        "outputId": "bcb2f41f-093a-4039-cbf5-db8de7268b17"
      },
      "execution_count": 26,
      "outputs": [
        {
          "output_type": "stream",
          "name": "stdout",
          "text": [
            "tf.Tensor([ True  True  True], shape=(3,), dtype=bool)\n"
          ]
        }
      ]
    },
    {
      "cell_type": "code",
      "source": [
        "x = tf.constant([1,2,3])\n",
        "y = tf.constant([[10],[20],[30]])\n",
        "\n",
        "print(tf.math.multiply(x,y))"
      ],
      "metadata": {
        "colab": {
          "base_uri": "https://localhost:8080/"
        },
        "id": "LAEkRvhEmVzc",
        "outputId": "f9fd2563-87e1-4a56-85f6-d59dc77a6f3f"
      },
      "execution_count": 27,
      "outputs": [
        {
          "output_type": "stream",
          "name": "stdout",
          "text": [
            "tf.Tensor(\n",
            "[[10 20 30]\n",
            " [20 40 60]\n",
            " [30 60 90]], shape=(3, 3), dtype=int32)\n"
          ]
        }
      ]
    },
    {
      "cell_type": "code",
      "source": [
        "x = tf.constant([1,2,3])\n",
        "y = tf.constant([-2,4,6])\n",
        "\n",
        "tf.maximum(x,y)"
      ],
      "metadata": {
        "colab": {
          "base_uri": "https://localhost:8080/"
        },
        "id": "_fAhTPPRmnAd",
        "outputId": "61c73feb-38f3-407e-c2c8-854a99eb8e26"
      },
      "execution_count": 28,
      "outputs": [
        {
          "output_type": "execute_result",
          "data": {
            "text/plain": [
              "<tf.Tensor: shape=(3,), dtype=int32, numpy=array([1, 4, 6], dtype=int32)>"
            ]
          },
          "metadata": {},
          "execution_count": 28
        }
      ]
    },
    {
      "cell_type": "code",
      "source": [
        "print(tf.math.argmax(x))"
      ],
      "metadata": {
        "id": "Bh7GECOFnLq3",
        "outputId": "93282100-0b84-45f8-f9fd-e828b265466e",
        "colab": {
          "base_uri": "https://localhost:8080/"
        }
      },
      "execution_count": 29,
      "outputs": [
        {
          "output_type": "stream",
          "name": "stdout",
          "text": [
            "tf.Tensor(2, shape=(), dtype=int64)\n"
          ]
        }
      ]
    },
    {
      "cell_type": "code",
      "source": [
        "print(tf.math.equal(x,y))"
      ],
      "metadata": {
        "id": "JK_bVJ9NnrO6",
        "colab": {
          "base_uri": "https://localhost:8080/"
        },
        "outputId": "47cc42ad-e0b4-44af-9df1-7596b36bf8f3"
      },
      "execution_count": 30,
      "outputs": [
        {
          "output_type": "stream",
          "name": "stdout",
          "text": [
            "tf.Tensor([False False False], shape=(3,), dtype=bool)\n"
          ]
        }
      ]
    },
    {
      "cell_type": "code",
      "source": [
        "tf.pow(tf.cast(x, dtype=tf.float32), tf.cast(y, dtype=tf.float32))"
      ],
      "metadata": {
        "colab": {
          "base_uri": "https://localhost:8080/"
        },
        "id": "TIPguB2Eh3oP",
        "outputId": "93de7f5e-8c8d-4e37-e7a1-8abea38b412e"
      },
      "execution_count": 31,
      "outputs": [
        {
          "output_type": "execute_result",
          "data": {
            "text/plain": [
              "<tf.Tensor: shape=(3,), dtype=float32, numpy=array([  1.,  16., 729.], dtype=float32)>"
            ]
          },
          "metadata": {},
          "execution_count": 31
        }
      ]
    },
    {
      "cell_type": "code",
      "source": [
        "two_d = tf.constant(\n",
        "    [\n",
        "        [1,2,3],\n",
        "        [4,5,6],\n",
        "        [7,8,9]\n",
        "    ]\n",
        ")"
      ],
      "metadata": {
        "id": "9AkaG-Ndh_h1"
      },
      "execution_count": 32,
      "outputs": []
    },
    {
      "cell_type": "code",
      "source": [
        "tf.math.reduce_sum(two_d)"
      ],
      "metadata": {
        "colab": {
          "base_uri": "https://localhost:8080/"
        },
        "id": "-92RiOsTix18",
        "outputId": "fe533356-415c-435a-a1f7-3aa19c2037cf"
      },
      "execution_count": 33,
      "outputs": [
        {
          "output_type": "execute_result",
          "data": {
            "text/plain": [
              "<tf.Tensor: shape=(), dtype=int32, numpy=45>"
            ]
          },
          "metadata": {},
          "execution_count": 33
        }
      ]
    },
    {
      "cell_type": "code",
      "source": [
        "tf.math.reduce_max(two_d)"
      ],
      "metadata": {
        "colab": {
          "base_uri": "https://localhost:8080/"
        },
        "id": "EgK96TWVi07r",
        "outputId": "41034269-9e3b-4042-e34d-6362397619ed"
      },
      "execution_count": 34,
      "outputs": [
        {
          "output_type": "execute_result",
          "data": {
            "text/plain": [
              "<tf.Tensor: shape=(), dtype=int32, numpy=9>"
            ]
          },
          "metadata": {},
          "execution_count": 34
        }
      ]
    },
    {
      "cell_type": "code",
      "source": [
        "tf.math.reduce_min(two_d)"
      ],
      "metadata": {
        "colab": {
          "base_uri": "https://localhost:8080/"
        },
        "id": "9JPHhx9gi-Az",
        "outputId": "fa602ef1-5a62-4eaa-a68c-c1534e6540f1"
      },
      "execution_count": 35,
      "outputs": [
        {
          "output_type": "execute_result",
          "data": {
            "text/plain": [
              "<tf.Tensor: shape=(), dtype=int32, numpy=1>"
            ]
          },
          "metadata": {},
          "execution_count": 35
        }
      ]
    },
    {
      "cell_type": "code",
      "source": [
        "tf.math.reduce_sum(two_d, axis = 0)"
      ],
      "metadata": {
        "colab": {
          "base_uri": "https://localhost:8080/"
        },
        "id": "GyB42gHsi_Pi",
        "outputId": "768055c5-d49c-4581-9ab1-d8a17b226a5f"
      },
      "execution_count": 36,
      "outputs": [
        {
          "output_type": "execute_result",
          "data": {
            "text/plain": [
              "<tf.Tensor: shape=(3,), dtype=int32, numpy=array([12, 15, 18], dtype=int32)>"
            ]
          },
          "metadata": {},
          "execution_count": 36
        }
      ]
    },
    {
      "cell_type": "code",
      "source": [
        "tf.math.reduce_sum(two_d, axis = 1)"
      ],
      "metadata": {
        "colab": {
          "base_uri": "https://localhost:8080/"
        },
        "id": "1ZbpTiVPjKhf",
        "outputId": "82169b27-3842-4eb1-f866-8bef756d30a2"
      },
      "execution_count": 37,
      "outputs": [
        {
          "output_type": "execute_result",
          "data": {
            "text/plain": [
              "<tf.Tensor: shape=(3,), dtype=int32, numpy=array([ 6, 15, 24], dtype=int32)>"
            ]
          },
          "metadata": {},
          "execution_count": 37
        }
      ]
    },
    {
      "cell_type": "markdown",
      "source": [
        "#### same for max and min"
      ],
      "metadata": {
        "id": "A1BBHg2RjSD0"
      }
    },
    {
      "cell_type": "code",
      "source": [
        "tf.math.top_k(two_d, 2)"
      ],
      "metadata": {
        "colab": {
          "base_uri": "https://localhost:8080/"
        },
        "id": "hcxFdZqWjOEq",
        "outputId": "dd2e2c15-e464-4558-aa11-c39394e5a1ac"
      },
      "execution_count": 38,
      "outputs": [
        {
          "output_type": "execute_result",
          "data": {
            "text/plain": [
              "TopKV2(values=<tf.Tensor: shape=(3, 2), dtype=int32, numpy=\n",
              "array([[3, 2],\n",
              "       [6, 5],\n",
              "       [9, 8]], dtype=int32)>, indices=<tf.Tensor: shape=(3, 2), dtype=int32, numpy=\n",
              "array([[2, 1],\n",
              "       [2, 1],\n",
              "       [2, 1]], dtype=int32)>)"
            ]
          },
          "metadata": {},
          "execution_count": 38
        }
      ]
    },
    {
      "cell_type": "code",
      "source": [
        "## Linear algebra"
      ],
      "metadata": {
        "id": "tlvdTFDTjvzd"
      },
      "execution_count": 39,
      "outputs": []
    },
    {
      "cell_type": "code",
      "source": [
        "tf.linalg.matmul(two_d, tf.transpose(two_d))"
      ],
      "metadata": {
        "colab": {
          "base_uri": "https://localhost:8080/"
        },
        "id": "A_De1UU0TlG7",
        "outputId": "f72efe21-a95f-4afc-d4f8-196b70f7e9c2"
      },
      "execution_count": 40,
      "outputs": [
        {
          "output_type": "execute_result",
          "data": {
            "text/plain": [
              "<tf.Tensor: shape=(3, 3), dtype=int32, numpy=\n",
              "array([[ 14,  32,  50],\n",
              "       [ 32,  77, 122],\n",
              "       [ 50, 122, 194]], dtype=int32)>"
            ]
          },
          "metadata": {},
          "execution_count": 40
        }
      ]
    },
    {
      "cell_type": "code",
      "source": [
        "print(two_d @ tf.transpose(two_d))"
      ],
      "metadata": {
        "id": "igFHs8gUT9Vk",
        "colab": {
          "base_uri": "https://localhost:8080/"
        },
        "outputId": "48378a30-5427-4a33-ec03-e090b5067601"
      },
      "execution_count": 41,
      "outputs": [
        {
          "output_type": "stream",
          "name": "stdout",
          "text": [
            "tf.Tensor(\n",
            "[[ 14  32  50]\n",
            " [ 32  77 122]\n",
            " [ 50 122 194]], shape=(3, 3), dtype=int32)\n"
          ]
        }
      ]
    },
    {
      "cell_type": "code",
      "source": [
        "tf.linalg.matmul(\n",
        "    two_d,\n",
        "    two_d,\n",
        "    transpose_b = True\n",
        ")"
      ],
      "metadata": {
        "colab": {
          "base_uri": "https://localhost:8080/"
        },
        "id": "SDzFItxSsOew",
        "outputId": "08282dee-bee3-492d-c456-02f795340ebb"
      },
      "execution_count": 42,
      "outputs": [
        {
          "output_type": "execute_result",
          "data": {
            "text/plain": [
              "<tf.Tensor: shape=(3, 3), dtype=int32, numpy=\n",
              "array([[ 14,  32,  50],\n",
              "       [ 32,  77, 122],\n",
              "       [ 50, 122, 194]], dtype=int32)>"
            ]
          },
          "metadata": {},
          "execution_count": 42
        }
      ]
    },
    {
      "cell_type": "code",
      "source": [
        "# band part\n",
        "\n",
        "# (lower < 0 or m - n <= lower) and (upper < 0 or n - m <= upper)\n",
        "\n",
        "tf.linalg.band_part(two_d, 0, -1)"
      ],
      "metadata": {
        "colab": {
          "base_uri": "https://localhost:8080/"
        },
        "id": "EqpLf1FTsXx1",
        "outputId": "e5a3fcba-bb04-4821-82c1-8f2fef761b17"
      },
      "execution_count": 43,
      "outputs": [
        {
          "output_type": "execute_result",
          "data": {
            "text/plain": [
              "<tf.Tensor: shape=(3, 3), dtype=int32, numpy=\n",
              "array([[1, 2, 3],\n",
              "       [0, 5, 6],\n",
              "       [0, 0, 9]], dtype=int32)>"
            ]
          },
          "metadata": {},
          "execution_count": 43
        }
      ]
    },
    {
      "cell_type": "code",
      "source": [
        "print(two_d)"
      ],
      "metadata": {
        "colab": {
          "base_uri": "https://localhost:8080/"
        },
        "id": "K3acHITOwFfG",
        "outputId": "63d15d2d-a3b7-4d02-ee76-9ad21129a9f8"
      },
      "execution_count": 44,
      "outputs": [
        {
          "output_type": "stream",
          "name": "stdout",
          "text": [
            "tf.Tensor(\n",
            "[[1 2 3]\n",
            " [4 5 6]\n",
            " [7 8 9]], shape=(3, 3), dtype=int32)\n"
          ]
        }
      ]
    },
    {
      "cell_type": "code",
      "source": [
        "matrix = tf.constant(\n",
        "    [\n",
        "        [43,7,-9],\n",
        "        [587,1,1],\n",
        "        [1,55,87]\n",
        "    ],\n",
        "    dtype = tf.float32\n",
        ")"
      ],
      "metadata": {
        "id": "nxxl9NNAzMj3"
      },
      "execution_count": 45,
      "outputs": []
    },
    {
      "cell_type": "code",
      "source": [
        "print(tf.linalg.inv(matrix))"
      ],
      "metadata": {
        "colab": {
          "base_uri": "https://localhost:8080/"
        },
        "id": "TIa6yNMzzY5L",
        "outputId": "ae205ecc-08c0-4c1c-e008-3728299a58aa"
      },
      "execution_count": 46,
      "outputs": [
        {
          "output_type": "stream",
          "name": "stdout",
          "text": [
            "tf.Tensor(\n",
            "[[-4.9485352e-05  1.7072445e-03 -2.4742676e-05]\n",
            " [ 7.8972436e-02 -5.7990653e-03  8.2362182e-03]\n",
            " [-4.9924534e-02  3.6464520e-03  6.2877326e-03]], shape=(3, 3), dtype=float32)\n"
          ]
        }
      ]
    },
    {
      "cell_type": "code",
      "source": [
        "matrix @ tf.linalg.inv(matrix)"
      ],
      "metadata": {
        "colab": {
          "base_uri": "https://localhost:8080/"
        },
        "id": "4sgvpKV40YWW",
        "outputId": "e8b53292-1ff5-4656-9f5d-698a5ae9ff93"
      },
      "execution_count": 47,
      "outputs": [
        {
          "output_type": "execute_result",
          "data": {
            "text/plain": [
              "<tf.Tensor: shape=(3, 3), dtype=float32, numpy=\n",
              "array([[ 9.9999994e-01, -7.4505806e-09, -1.3969839e-09],\n",
              "       [ 3.7252903e-09,  9.9999994e-01,  4.6566129e-10],\n",
              "       [-1.0803342e-07, -1.8626451e-08,  1.0000000e+00]], dtype=float32)>"
            ]
          },
          "metadata": {},
          "execution_count": 47
        }
      ]
    },
    {
      "cell_type": "code",
      "source": [
        "## singular value decompostions"
      ],
      "metadata": {
        "id": "0r4wH8z50hPd"
      },
      "execution_count": 48,
      "outputs": []
    },
    {
      "cell_type": "code",
      "source": [
        "s,u,v = tf.linalg.svd(matrix)"
      ],
      "metadata": {
        "id": "BSfuRGHQ07xm"
      },
      "execution_count": 49,
      "outputs": []
    },
    {
      "cell_type": "code",
      "source": [
        "s"
      ],
      "metadata": {
        "colab": {
          "base_uri": "https://localhost:8080/"
        },
        "id": "az562-oY0_84",
        "outputId": "594d07db-b428-4430-927f-c50844acfaa1"
      },
      "execution_count": 50,
      "outputs": [
        {
          "output_type": "execute_result",
          "data": {
            "text/plain": [
              "<tf.Tensor: shape=(3,), dtype=float32, numpy=array([588.5761  , 103.00178 ,  10.666596], dtype=float32)>"
            ]
          },
          "metadata": {},
          "execution_count": 50
        }
      ]
    },
    {
      "cell_type": "code",
      "source": [
        "u"
      ],
      "metadata": {
        "id": "0Ex8thdi1Gwt",
        "outputId": "c2939142-8324-43f1-92a8-136f25eea7ea",
        "colab": {
          "base_uri": "https://localhost:8080/"
        }
      },
      "execution_count": 51,
      "outputs": [
        {
          "output_type": "execute_result",
          "data": {
            "text/plain": [
              "<tf.Tensor: shape=(3, 3), dtype=float32, numpy=\n",
              "array([[ 7.3076628e-02, -3.8887016e-02,  9.9656785e-01],\n",
              "       [ 9.9732417e-01,  7.5763522e-04, -7.3102511e-02],\n",
              "       [ 2.0877039e-03,  9.9924332e-01,  3.8838323e-02]], dtype=float32)>"
            ]
          },
          "metadata": {},
          "execution_count": 51
        }
      ]
    },
    {
      "cell_type": "code",
      "source": [
        "v"
      ],
      "metadata": {
        "id": "4le7Mh7W1HNt",
        "outputId": "880cc7bc-0cea-4c17-a37a-74be2a2828d0",
        "colab": {
          "base_uri": "https://localhost:8080/"
        }
      },
      "execution_count": 52,
      "outputs": [
        {
          "output_type": "execute_result",
          "data": {
            "text/plain": [
              "<tf.Tensor: shape=(3, 3), dtype=float32, numpy=\n",
              "array([[ 9.9999589e-01, -2.2151717e-03, -1.8675114e-03],\n",
              "       [ 2.7586652e-03,  5.3093195e-01,  8.4740996e-01],\n",
              "       [ 8.8563695e-04,  8.4741157e-01, -5.3093582e-01]], dtype=float32)>"
            ]
          },
          "metadata": {},
          "execution_count": 52
        }
      ]
    },
    {
      "cell_type": "code",
      "source": [
        "## Einsum operators"
      ],
      "metadata": {
        "id": "5McL2fUR1H8c"
      },
      "execution_count": 53,
      "outputs": []
    },
    {
      "cell_type": "code",
      "source": [
        "import numpy as np"
      ],
      "metadata": {
        "id": "DcLfdw8ock_C"
      },
      "execution_count": 54,
      "outputs": []
    },
    {
      "cell_type": "code",
      "source": [
        "a = np.random.randint(0,10, size = (3,4))\n",
        "b = np.random.randint(0,10, size = (4,5))\n",
        "\n",
        "print(\"Normal : \")\n",
        "print(np.matmul(a,b))\n",
        "\n",
        "print(\"\\nEinsum : \")\n",
        "print(np.einsum(\"ij,jk -> ik\",a,b))"
      ],
      "metadata": {
        "colab": {
          "base_uri": "https://localhost:8080/"
        },
        "id": "kWiQW6fWcnAg",
        "outputId": "67fba752-251d-47ad-fb04-0589d301ec4a"
      },
      "execution_count": 55,
      "outputs": [
        {
          "output_type": "stream",
          "name": "stdout",
          "text": [
            "Normal : \n",
            "[[ 74 102 140  35  86]\n",
            " [ 69  93 109  26  50]\n",
            " [ 69  97 141  36  94]]\n",
            "\n",
            "Einsum : \n",
            "[[ 74 102 140  35  86]\n",
            " [ 69  93 109  26  50]\n",
            " [ 69  97 141  36  94]]\n"
          ]
        }
      ]
    },
    {
      "cell_type": "code",
      "source": [
        "a = np.random.randint(0,9, size = (3,3))\n",
        "b = np.random.randint(0,9, size = (3,3))\n",
        "\n",
        "print(f\"a : \\n{a}\")\n",
        "print(f\"b : \\n{b}\")\n",
        "\n",
        "print(\"\\nUsing a * b : \")\n",
        "print(a*b)\n",
        "\n",
        "print(\"\\nUsing einsum\")\n",
        "print(np.einsum(\"ij,ij -> ij\",a,b))"
      ],
      "metadata": {
        "colab": {
          "base_uri": "https://localhost:8080/"
        },
        "id": "_EZUxErYc6Oq",
        "outputId": "5236c657-f47f-4b20-d43b-775e7617781c"
      },
      "execution_count": 56,
      "outputs": [
        {
          "output_type": "stream",
          "name": "stdout",
          "text": [
            "a : \n",
            "[[8 4 8]\n",
            " [8 0 0]\n",
            " [8 0 1]]\n",
            "b : \n",
            "[[7 2 3]\n",
            " [3 4 4]\n",
            " [3 7 6]]\n",
            "\n",
            "Using a * b : \n",
            "[[56  8 24]\n",
            " [24  0  0]\n",
            " [24  0  6]]\n",
            "\n",
            "Using einsum\n",
            "[[56  8 24]\n",
            " [24  0  0]\n",
            " [24  0  6]]\n"
          ]
        }
      ]
    },
    {
      "cell_type": "code",
      "source": [
        "a = np.random.randint(0,10, size = (3,4))\n",
        "\n",
        "print(a)\n",
        "\n",
        "print(f\"\\nTranspose using a.T\\n{a.T}\")\n",
        "print(f'''\\nTranspose using einsum\\n{np.einsum(\"ij->ji\",a)}''')"
      ],
      "metadata": {
        "colab": {
          "base_uri": "https://localhost:8080/"
        },
        "id": "WXp9vqvSd9yz",
        "outputId": "6eeefe7e-64c3-4a34-fecf-e4eb6d6f908e"
      },
      "execution_count": 57,
      "outputs": [
        {
          "output_type": "stream",
          "name": "stdout",
          "text": [
            "[[2 8 1 5]\n",
            " [9 2 3 0]\n",
            " [3 9 1 3]]\n",
            "\n",
            "Transpose using a.T\n",
            "[[2 9 3]\n",
            " [8 2 9]\n",
            " [1 3 1]\n",
            " [5 0 3]]\n",
            "\n",
            "Transpose using einsum\n",
            "[[2 9 3]\n",
            " [8 2 9]\n",
            " [1 3 1]\n",
            " [5 0 3]]\n"
          ]
        }
      ]
    },
    {
      "cell_type": "code",
      "source": [
        "# using 3d arrays\n",
        "\n",
        "a = np.random.randint(0,10, size = (2,3,4))\n",
        "b = np.random.randint(0,10, size = (2,4,5))\n",
        "\n",
        "\n",
        "print(a.shape,b.shape)"
      ],
      "metadata": {
        "colab": {
          "base_uri": "https://localhost:8080/"
        },
        "id": "N3feiGxPdXUS",
        "outputId": "53a79a5b-392c-4ebd-defb-98eab9ea00a5"
      },
      "execution_count": 58,
      "outputs": [
        {
          "output_type": "stream",
          "name": "stdout",
          "text": [
            "(2, 3, 4) (2, 4, 5)\n"
          ]
        }
      ]
    },
    {
      "cell_type": "code",
      "source": [
        "print(f\"normal matmul : \\n{np.matmul(a,b)}\")\n",
        "print(f'''using einsum : \\n{np.einsum(\"bij,bjk -> bik\", a, b)}''')"
      ],
      "metadata": {
        "colab": {
          "base_uri": "https://localhost:8080/"
        },
        "id": "KiZdj0OSf2N6",
        "outputId": "b83101f8-c64b-4369-860d-39cec0e6f251"
      },
      "execution_count": 59,
      "outputs": [
        {
          "output_type": "stream",
          "name": "stdout",
          "text": [
            "normal matmul : \n",
            "[[[ 34  90  39  68  91]\n",
            "  [ 67  86  55  64  31]\n",
            "  [ 41  89  42  66  72]]\n",
            "\n",
            " [[186 163  86 122  58]\n",
            "  [ 82  98  52  45  39]\n",
            "  [179 163  79 102  52]]]\n",
            "using einsum : \n",
            "[[[ 34  90  39  68  91]\n",
            "  [ 67  86  55  64  31]\n",
            "  [ 41  89  42  66  72]]\n",
            "\n",
            " [[186 163  86 122  58]\n",
            "  [ 82  98  52  45  39]\n",
            "  [179 163  79 102  52]]]\n"
          ]
        }
      ]
    },
    {
      "cell_type": "code",
      "source": [
        "a = np.random.randint(0,10, size = (3,3))\n",
        "\n",
        "print(np.sum(a))"
      ],
      "metadata": {
        "colab": {
          "base_uri": "https://localhost:8080/"
        },
        "id": "MkjqaZFhgbOK",
        "outputId": "14f7ab55-1a6d-4738-c38b-6c9b550ffe76"
      },
      "execution_count": 60,
      "outputs": [
        {
          "output_type": "stream",
          "name": "stdout",
          "text": [
            "44\n"
          ]
        }
      ]
    },
    {
      "cell_type": "code",
      "source": [
        "print(np.einsum(\"ij-> \",a))"
      ],
      "metadata": {
        "colab": {
          "base_uri": "https://localhost:8080/"
        },
        "id": "fpBwOKP9hPNa",
        "outputId": "b31dc94f-aa08-4d46-e984-80d0beb4b28c"
      },
      "execution_count": 61,
      "outputs": [
        {
          "output_type": "stream",
          "name": "stdout",
          "text": [
            "44\n"
          ]
        }
      ]
    },
    {
      "cell_type": "code",
      "source": [
        "print(np.einsum(\"ij -> j\",a))\n",
        "print(np.einsum(\"ij -> i\",a))"
      ],
      "metadata": {
        "colab": {
          "base_uri": "https://localhost:8080/"
        },
        "id": "b70dWDxHhSri",
        "outputId": "50c2c458-dc0d-45f7-ae96-c17f50baa2e5"
      },
      "execution_count": 62,
      "outputs": [
        {
          "output_type": "stream",
          "name": "stdout",
          "text": [
            "[18 14 12]\n",
            "[13 14 17]\n"
          ]
        }
      ]
    },
    {
      "cell_type": "code",
      "source": [
        "# expand dims"
      ],
      "metadata": {
        "id": "6mXpodbCheJS"
      },
      "execution_count": 63,
      "outputs": []
    },
    {
      "cell_type": "code",
      "source": [
        "tensor_three_d = tf.constant(\n",
        "    [\n",
        "        [\n",
        "            [1,2,3],\n",
        "            [2,3,4],\n",
        "            [3,4,5]\n",
        "        ],[\n",
        "            [4,5,6],\n",
        "            [5,6,7],\n",
        "            [6,7,8]\n",
        "        ],[\n",
        "            [7,8,9],\n",
        "            [8,9,10],\n",
        "            [9,10,11]\n",
        "        ]\n",
        "    ]\n",
        ")"
      ],
      "metadata": {
        "id": "LrFjR2dSFWZh"
      },
      "execution_count": 64,
      "outputs": []
    },
    {
      "cell_type": "code",
      "source": [
        "print(tensor_three_d.shape)"
      ],
      "metadata": {
        "colab": {
          "base_uri": "https://localhost:8080/"
        },
        "id": "45ZWOCb1Gt03",
        "outputId": "0cc34093-1ebe-4d1b-f615-62f8a047536c"
      },
      "execution_count": 65,
      "outputs": [
        {
          "output_type": "stream",
          "name": "stdout",
          "text": [
            "(3, 3, 3)\n"
          ]
        }
      ]
    },
    {
      "cell_type": "code",
      "source": [
        "print(tf.expand_dims(tensor_three_d, axis = 1).shape)"
      ],
      "metadata": {
        "colab": {
          "base_uri": "https://localhost:8080/"
        },
        "id": "WbuWPGpoGxYu",
        "outputId": "7d71cedd-9ca3-4c83-c158-abd1c48f8e34"
      },
      "execution_count": 66,
      "outputs": [
        {
          "output_type": "stream",
          "name": "stdout",
          "text": [
            "(3, 1, 3, 3)\n"
          ]
        }
      ]
    },
    {
      "cell_type": "code",
      "source": [
        "# simple example\n",
        "x = tf.constant([1,2,3,4])\n",
        "print(f\"Shape without expand dims : {x.shape}\")\n",
        "x_exp = tf.expand_dims(x, axis = 0)\n",
        "print(f\"With expand dims : {x_exp.shape}\")"
      ],
      "metadata": {
        "colab": {
          "base_uri": "https://localhost:8080/"
        },
        "id": "H54wbOIuG66A",
        "outputId": "21a3ca10-8f01-442d-c14a-2d3a6ae8a798"
      },
      "execution_count": 67,
      "outputs": [
        {
          "output_type": "stream",
          "name": "stdout",
          "text": [
            "Shape without expand dims : (4,)\n",
            "With expand dims : (1, 4)\n"
          ]
        }
      ]
    },
    {
      "cell_type": "code",
      "source": [
        "# use of squeeze\n",
        "x_sq = tf.squeeze(x_exp, axis = 0)\n",
        "print(f\"using squeeze in expanded x , final shape obtained : {x_sq.shape}\")"
      ],
      "metadata": {
        "colab": {
          "base_uri": "https://localhost:8080/"
        },
        "id": "hjcIIis9Hk4n",
        "outputId": "2e5072ba-0c3e-4c06-bf09-bae1ee2bdca6"
      },
      "execution_count": 68,
      "outputs": [
        {
          "output_type": "stream",
          "name": "stdout",
          "text": [
            "using squeeze in expanded x , final shape obtained : (4,)\n"
          ]
        }
      ]
    },
    {
      "cell_type": "code",
      "source": [
        "#use of tf.reshape\n",
        "\n",
        "print(tf.reshape(x_sq, shape = (2,2)))\n",
        "print(tf.reshape(x_sq, [2,2]))"
      ],
      "metadata": {
        "colab": {
          "base_uri": "https://localhost:8080/"
        },
        "id": "6eW5MpGaJoAv",
        "outputId": "050d03c6-8827-4b1f-cb71-9968fa9e06b8"
      },
      "execution_count": 69,
      "outputs": [
        {
          "output_type": "stream",
          "name": "stdout",
          "text": [
            "tf.Tensor(\n",
            "[[1 2]\n",
            " [3 4]], shape=(2, 2), dtype=int32)\n",
            "tf.Tensor(\n",
            "[[1 2]\n",
            " [3 4]], shape=(2, 2), dtype=int32)\n"
          ]
        }
      ]
    },
    {
      "cell_type": "code",
      "source": [
        "#using concat\n",
        "\n",
        "a = np.random.randint(0,10, size = (2,3))\n",
        "b = np.random.randint(0,10, size = (2,3))\n",
        "\n",
        "print(f\"a : {a}\\nb : {b}\")"
      ],
      "metadata": {
        "colab": {
          "base_uri": "https://localhost:8080/"
        },
        "id": "3xAN-dTpLPlP",
        "outputId": "a12b66fe-bd34-436c-9bdc-0181e89deef5"
      },
      "execution_count": 70,
      "outputs": [
        {
          "output_type": "stream",
          "name": "stdout",
          "text": [
            "a : [[6 5 6]\n",
            " [5 2 7]]\n",
            "b : [[0 5 6]\n",
            " [4 3 2]]\n"
          ]
        }
      ]
    },
    {
      "cell_type": "code",
      "source": [
        "c = tf.concat([a,b], axis=0)\n",
        "print(c)\n",
        "print(c.shape)"
      ],
      "metadata": {
        "colab": {
          "base_uri": "https://localhost:8080/"
        },
        "id": "f6QwGDNMWbvf",
        "outputId": "c61b6abc-1370-4b29-d67c-c77f6ea83ffa"
      },
      "execution_count": 71,
      "outputs": [
        {
          "output_type": "stream",
          "name": "stdout",
          "text": [
            "tf.Tensor(\n",
            "[[6 5 6]\n",
            " [5 2 7]\n",
            " [0 5 6]\n",
            " [4 3 2]], shape=(4, 3), dtype=int64)\n",
            "(4, 3)\n"
          ]
        }
      ]
    },
    {
      "cell_type": "code",
      "source": [
        "c = tf.concat([a,b], axis = 1)\n",
        "print(c)\n",
        "print(c.shape)"
      ],
      "metadata": {
        "colab": {
          "base_uri": "https://localhost:8080/"
        },
        "id": "PrstW3VoWtul",
        "outputId": "b224b91f-007b-477a-9a48-3d8746c8dfae"
      },
      "execution_count": 72,
      "outputs": [
        {
          "output_type": "stream",
          "name": "stdout",
          "text": [
            "tf.Tensor(\n",
            "[[6 5 6 0 5 6]\n",
            " [5 2 7 4 3 2]], shape=(2, 6), dtype=int64)\n",
            "(2, 6)\n"
          ]
        }
      ]
    },
    {
      "cell_type": "code",
      "source": [
        "#using stack"
      ],
      "metadata": {
        "id": "cIe10WxMXIOi"
      },
      "execution_count": 73,
      "outputs": []
    },
    {
      "cell_type": "code",
      "source": [
        "print(a.shape,b.shape)"
      ],
      "metadata": {
        "colab": {
          "base_uri": "https://localhost:8080/"
        },
        "id": "-o-_1W1chl6X",
        "outputId": "3cdb7ece-17d7-4102-e83e-5785eca405f2"
      },
      "execution_count": 74,
      "outputs": [
        {
          "output_type": "stream",
          "name": "stdout",
          "text": [
            "(2, 3) (2, 3)\n"
          ]
        }
      ]
    },
    {
      "cell_type": "code",
      "source": [
        "c = tf.stack([a,b], axis = 0)\n",
        "print(c)\n",
        "print(c.shape)"
      ],
      "metadata": {
        "colab": {
          "base_uri": "https://localhost:8080/"
        },
        "id": "mXFjXuiqhpZt",
        "outputId": "441a3081-b278-4f86-8f08-76674056d8f9"
      },
      "execution_count": 75,
      "outputs": [
        {
          "output_type": "stream",
          "name": "stdout",
          "text": [
            "tf.Tensor(\n",
            "[[[6 5 6]\n",
            "  [5 2 7]]\n",
            "\n",
            " [[0 5 6]\n",
            "  [4 3 2]]], shape=(2, 2, 3), dtype=int32)\n",
            "(2, 2, 3)\n"
          ]
        }
      ]
    },
    {
      "cell_type": "code",
      "source": [
        "c = tf.stack([a,b], axis = 1)\n",
        "print(c)\n",
        "print(c.shape)"
      ],
      "metadata": {
        "colab": {
          "base_uri": "https://localhost:8080/"
        },
        "id": "FWyqUVzHh4hc",
        "outputId": "8586b03a-48c6-4409-d2bc-a2e6e6dff8a3"
      },
      "execution_count": 76,
      "outputs": [
        {
          "output_type": "stream",
          "name": "stdout",
          "text": [
            "tf.Tensor(\n",
            "[[[6 5 6]\n",
            "  [0 5 6]]\n",
            "\n",
            " [[5 2 7]\n",
            "  [4 3 2]]], shape=(2, 2, 3), dtype=int64)\n",
            "(2, 2, 3)\n"
          ]
        }
      ]
    },
    {
      "cell_type": "code",
      "source": [
        "c = tf.stack([a,b], axis = 2)\n",
        "print(c)\n",
        "print(c.shape)"
      ],
      "metadata": {
        "colab": {
          "base_uri": "https://localhost:8080/"
        },
        "id": "4oYxoTH4iROk",
        "outputId": "319f2687-4c62-45a9-cb96-3ad8f048626c"
      },
      "execution_count": 77,
      "outputs": [
        {
          "output_type": "stream",
          "name": "stdout",
          "text": [
            "tf.Tensor(\n",
            "[[[6 0]\n",
            "  [5 5]\n",
            "  [6 6]]\n",
            "\n",
            " [[5 4]\n",
            "  [2 3]\n",
            "  [7 2]]], shape=(2, 3, 2), dtype=int64)\n",
            "(2, 3, 2)\n"
          ]
        }
      ]
    },
    {
      "cell_type": "code",
      "source": [
        "# paddings"
      ],
      "metadata": {
        "id": "kpOMHH2fiakU"
      },
      "execution_count": 78,
      "outputs": []
    },
    {
      "cell_type": "code",
      "source": [
        "a = np.random.randint(0,10, size = (3,3))"
      ],
      "metadata": {
        "id": "1oaA3md0i2aX"
      },
      "execution_count": 79,
      "outputs": []
    },
    {
      "cell_type": "code",
      "source": [
        "paddings = [\n",
        "    [1,1],\n",
        "    [2,2]\n",
        "]\n",
        "\n",
        "tf.pad(\n",
        "    a,paddings\n",
        ")"
      ],
      "metadata": {
        "colab": {
          "base_uri": "https://localhost:8080/"
        },
        "id": "qe77I3sejAga",
        "outputId": "cdc3225e-a234-450a-8f1e-6b0a3fae2255"
      },
      "execution_count": 83,
      "outputs": [
        {
          "output_type": "execute_result",
          "data": {
            "text/plain": [
              "<tf.Tensor: shape=(5, 7), dtype=int64, numpy=\n",
              "array([[0, 0, 0, 0, 0, 0, 0],\n",
              "       [0, 0, 2, 4, 1, 0, 0],\n",
              "       [0, 0, 3, 3, 0, 0, 0],\n",
              "       [0, 0, 8, 6, 6, 0, 0],\n",
              "       [0, 0, 0, 0, 0, 0, 0]])>"
            ]
          },
          "metadata": {},
          "execution_count": 83
        }
      ]
    },
    {
      "cell_type": "code",
      "source": [
        "tf.pad(\n",
        "    a,paddings, \"CONSTANT\", constant_values=1\n",
        ")"
      ],
      "metadata": {
        "colab": {
          "base_uri": "https://localhost:8080/"
        },
        "id": "U4JDD1IVjOaB",
        "outputId": "ccc549eb-c070-4cdb-e386-a046cbba5cf4"
      },
      "execution_count": 84,
      "outputs": [
        {
          "output_type": "execute_result",
          "data": {
            "text/plain": [
              "<tf.Tensor: shape=(5, 7), dtype=int64, numpy=\n",
              "array([[1, 1, 1, 1, 1, 1, 1],\n",
              "       [1, 1, 2, 4, 1, 1, 1],\n",
              "       [1, 1, 3, 3, 0, 1, 1],\n",
              "       [1, 1, 8, 6, 6, 1, 1],\n",
              "       [1, 1, 1, 1, 1, 1, 1]])>"
            ]
          },
          "metadata": {},
          "execution_count": 84
        }
      ]
    },
    {
      "cell_type": "code",
      "source": [
        "# gather"
      ],
      "metadata": {
        "id": "nOQ1Sb2hkAmt"
      },
      "execution_count": 85,
      "outputs": []
    },
    {
      "cell_type": "code",
      "source": [
        "params = tf.constant(['p0','p1','p2','p3','p4','p5'])\n",
        "params[1:3]"
      ],
      "metadata": {
        "colab": {
          "base_uri": "https://localhost:8080/"
        },
        "id": "uFIRCiInkXlC",
        "outputId": "c37ba655-334f-4634-a0f4-ab407c79ec26"
      },
      "execution_count": 86,
      "outputs": [
        {
          "output_type": "execute_result",
          "data": {
            "text/plain": [
              "<tf.Tensor: shape=(2,), dtype=string, numpy=array([b'p1', b'p2'], dtype=object)>"
            ]
          },
          "metadata": {},
          "execution_count": 86
        }
      ]
    },
    {
      "cell_type": "code",
      "source": [
        "tf.gather(\n",
        "    params,[1,2]\n",
        ")"
      ],
      "metadata": {
        "colab": {
          "base_uri": "https://localhost:8080/"
        },
        "id": "xjg9rRh5k-2Z",
        "outputId": "be735085-dad9-492c-e709-b65689e26e04"
      },
      "execution_count": 87,
      "outputs": [
        {
          "output_type": "execute_result",
          "data": {
            "text/plain": [
              "<tf.Tensor: shape=(2,), dtype=string, numpy=array([b'p1', b'p2'], dtype=object)>"
            ]
          },
          "metadata": {},
          "execution_count": 87
        }
      ]
    },
    {
      "cell_type": "code",
      "source": [
        "tf.gather(\n",
        "    params, tf.range(1,3)\n",
        ")"
      ],
      "metadata": {
        "colab": {
          "base_uri": "https://localhost:8080/"
        },
        "id": "tV4MoekIlD4G",
        "outputId": "c35ec38f-c784-4bc5-b168-0ea7be52bd1c"
      },
      "execution_count": 88,
      "outputs": [
        {
          "output_type": "execute_result",
          "data": {
            "text/plain": [
              "<tf.Tensor: shape=(2,), dtype=string, numpy=array([b'p1', b'p2'], dtype=object)>"
            ]
          },
          "metadata": {},
          "execution_count": 88
        }
      ]
    },
    {
      "cell_type": "code",
      "source": [
        "# use of rag tensors"
      ],
      "metadata": {
        "id": "AyghULI_lMd2"
      },
      "execution_count": 89,
      "outputs": []
    },
    {
      "cell_type": "code",
      "source": [
        "a = np.random.randint(0,10, size = (4,3))"
      ],
      "metadata": {
        "id": "AvPLLo4Mm4D8"
      },
      "execution_count": 90,
      "outputs": []
    },
    {
      "cell_type": "code",
      "source": [
        "print(a)"
      ],
      "metadata": {
        "colab": {
          "base_uri": "https://localhost:8080/"
        },
        "id": "mab7q2Q5m_wx",
        "outputId": "e3dd4b28-25c6-4934-f05c-30dc14e25a57"
      },
      "execution_count": 91,
      "outputs": [
        {
          "output_type": "stream",
          "name": "stdout",
          "text": [
            "[[8 0 4]\n",
            " [0 5 9]\n",
            " [2 8 0]\n",
            " [5 5 7]]\n"
          ]
        }
      ]
    },
    {
      "cell_type": "code",
      "source": [
        "print(a.shape)"
      ],
      "metadata": {
        "colab": {
          "base_uri": "https://localhost:8080/"
        },
        "id": "aMMOI2y-nAzB",
        "outputId": "972c101d-dfab-488d-f7e8-8b2629899993"
      },
      "execution_count": 92,
      "outputs": [
        {
          "output_type": "stream",
          "name": "stdout",
          "text": [
            "(4, 3)\n"
          ]
        }
      ]
    },
    {
      "cell_type": "code",
      "source": [
        "modified_a = [\n",
        "    [8, 0, 4],\n",
        "    [0,],\n",
        "    [2, 8, 0],\n",
        "    [5, 5]\n",
        "    ]"
      ],
      "metadata": {
        "id": "r35kj3KgnCo4"
      },
      "execution_count": 93,
      "outputs": []
    },
    {
      "cell_type": "code",
      "source": [
        "try :\n",
        "    tensor_a = tf.constant(modified_a)\n",
        "    print(modified_a.shape)\n",
        "except ValueError as ve:\n",
        "    print(ve)"
      ],
      "metadata": {
        "colab": {
          "base_uri": "https://localhost:8080/"
        },
        "id": "kWaHqvdznbSE",
        "outputId": "f6091122-ed91-4bb2-81e3-50e0922752b1"
      },
      "execution_count": 96,
      "outputs": [
        {
          "output_type": "stream",
          "name": "stdout",
          "text": [
            "Can't convert non-rectangular Python sequence to Tensor.\n"
          ]
        }
      ]
    },
    {
      "cell_type": "code",
      "source": [
        "tensor_rag = tf.ragged.constant(modified_a)"
      ],
      "metadata": {
        "id": "ihPJ5Po5nfOs"
      },
      "execution_count": 99,
      "outputs": []
    },
    {
      "cell_type": "code",
      "source": [
        "print(tensor_rag)"
      ],
      "metadata": {
        "colab": {
          "base_uri": "https://localhost:8080/"
        },
        "id": "yBYP3rvroGvh",
        "outputId": "77ee7eaf-ac81-462b-ab63-4be2d26f8054"
      },
      "execution_count": 100,
      "outputs": [
        {
          "output_type": "stream",
          "name": "stdout",
          "text": [
            "<tf.RaggedTensor [[8, 0, 4], [0], [2, 8, 0], [5, 5]]>\n"
          ]
        }
      ]
    },
    {
      "cell_type": "code",
      "source": [
        "print(tensor_rag.shape)"
      ],
      "metadata": {
        "colab": {
          "base_uri": "https://localhost:8080/"
        },
        "id": "PTUMF5IxoPhO",
        "outputId": "682e2747-9b5b-4a75-89b3-23bb14fe3e98"
      },
      "execution_count": 101,
      "outputs": [
        {
          "output_type": "stream",
          "name": "stdout",
          "text": [
            "(4, None)\n"
          ]
        }
      ]
    },
    {
      "cell_type": "code",
      "source": [
        "# ragged boolean mask"
      ],
      "metadata": {
        "id": "lSU-UAXIoVVu"
      },
      "execution_count": 102,
      "outputs": []
    },
    {
      "cell_type": "code",
      "source": [
        "a = np.random.randint(0,10, size = (3,3))\n",
        "a"
      ],
      "metadata": {
        "colab": {
          "base_uri": "https://localhost:8080/"
        },
        "id": "jBMd11jqptOL",
        "outputId": "5fc3688e-a829-45ef-b90a-2572c121c7a4"
      },
      "execution_count": 103,
      "outputs": [
        {
          "output_type": "execute_result",
          "data": {
            "text/plain": [
              "array([[6, 8, 7],\n",
              "       [4, 2, 1],\n",
              "       [8, 2, 3]])"
            ]
          },
          "metadata": {},
          "execution_count": 103
        }
      ]
    },
    {
      "cell_type": "code",
      "source": [
        "mask = np.random.rand(3, 3) < 0.5\n",
        "mask"
      ],
      "metadata": {
        "colab": {
          "base_uri": "https://localhost:8080/"
        },
        "id": "2WNPfrmqp5sI",
        "outputId": "87ba6f60-453f-414b-95ce-d00f95b6db37"
      },
      "execution_count": 104,
      "outputs": [
        {
          "output_type": "execute_result",
          "data": {
            "text/plain": [
              "array([[ True,  True, False],\n",
              "       [ True,  True,  True],\n",
              "       [False, False,  True]])"
            ]
          },
          "metadata": {},
          "execution_count": 104
        }
      ]
    },
    {
      "cell_type": "code",
      "source": [
        "tf.ragged.boolean_mask(\n",
        "    a,mask\n",
        ")"
      ],
      "metadata": {
        "colab": {
          "base_uri": "https://localhost:8080/"
        },
        "id": "mKCc1xlEqV3s",
        "outputId": "8ba8a333-655a-48c8-e0c1-6540da8e3ea2"
      },
      "execution_count": 105,
      "outputs": [
        {
          "output_type": "execute_result",
          "data": {
            "text/plain": [
              "<tf.RaggedTensor [[6, 8], [4, 2, 1], [3]]>"
            ]
          },
          "metadata": {},
          "execution_count": 105
        }
      ]
    },
    {
      "cell_type": "code",
      "source": [],
      "metadata": {
        "id": "1PkkM4mdqcQm"
      },
      "execution_count": null,
      "outputs": []
    }
  ]
}